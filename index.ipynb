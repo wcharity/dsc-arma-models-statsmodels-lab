{
 "cells": [
  {
   "cell_type": "markdown",
   "metadata": {},
   "source": [
    "# ARMA Models in StatsModels - Lab \n",
    "\n",
    "## Introduction\n",
    "\n",
    "In this lesson, you'll fit an ARMA model using `statsmodels` to a real-world dataset. \n",
    "\n",
    "\n",
    "## Objectives\n",
    "\n",
    "In this lab you will: \n",
    "\n",
    "- Decide the optimal parameters for an ARMA model by plotting ACF and PACF and interpreting them \n",
    "- Fit an ARMA model using StatsModels \n",
    "\n",
    "## Dataset\n",
    "\n",
    "Run the cell below to import the dataset containing the historical running times for the men's 400m in the Olympic games."
   ]
  },
  {
   "cell_type": "code",
   "execution_count": 1,
   "metadata": {},
   "outputs": [],
   "source": [
    "import pandas as pd\n",
    "import matplotlib.pyplot as plt\n",
    "import numpy as np\n",
    "import warnings\n",
    "warnings.filterwarnings('ignore')\n",
    "\n",
    "data = pd.read_csv('winning_400m.csv')\n",
    "data['year'] = pd.to_datetime(data['year'].astype(str))\n",
    "data.set_index('year', inplace=True)\n",
    "data.index = data.index.to_period(\"Y\")"
   ]
  },
  {
   "cell_type": "code",
   "execution_count": 2,
   "metadata": {},
   "outputs": [
    {
     "data": {
      "text/html": [
       "<div>\n",
       "<style scoped>\n",
       "    .dataframe tbody tr th:only-of-type {\n",
       "        vertical-align: middle;\n",
       "    }\n",
       "\n",
       "    .dataframe tbody tr th {\n",
       "        vertical-align: top;\n",
       "    }\n",
       "\n",
       "    .dataframe thead th {\n",
       "        text-align: right;\n",
       "    }\n",
       "</style>\n",
       "<table border=\"1\" class=\"dataframe\">\n",
       "  <thead>\n",
       "    <tr style=\"text-align: right;\">\n",
       "      <th></th>\n",
       "      <th>winning_times</th>\n",
       "    </tr>\n",
       "    <tr>\n",
       "      <th>year</th>\n",
       "      <th></th>\n",
       "    </tr>\n",
       "  </thead>\n",
       "  <tbody>\n",
       "    <tr>\n",
       "      <th>1900</th>\n",
       "      <td>49.4</td>\n",
       "    </tr>\n",
       "    <tr>\n",
       "      <th>1904</th>\n",
       "      <td>49.2</td>\n",
       "    </tr>\n",
       "    <tr>\n",
       "      <th>1908</th>\n",
       "      <td>50.0</td>\n",
       "    </tr>\n",
       "    <tr>\n",
       "      <th>1912</th>\n",
       "      <td>48.2</td>\n",
       "    </tr>\n",
       "    <tr>\n",
       "      <th>1920</th>\n",
       "      <td>49.6</td>\n",
       "    </tr>\n",
       "    <tr>\n",
       "      <th>1924</th>\n",
       "      <td>47.6</td>\n",
       "    </tr>\n",
       "    <tr>\n",
       "      <th>1928</th>\n",
       "      <td>47.8</td>\n",
       "    </tr>\n",
       "    <tr>\n",
       "      <th>1932</th>\n",
       "      <td>46.2</td>\n",
       "    </tr>\n",
       "    <tr>\n",
       "      <th>1936</th>\n",
       "      <td>46.5</td>\n",
       "    </tr>\n",
       "    <tr>\n",
       "      <th>1948</th>\n",
       "      <td>46.2</td>\n",
       "    </tr>\n",
       "    <tr>\n",
       "      <th>1952</th>\n",
       "      <td>45.9</td>\n",
       "    </tr>\n",
       "    <tr>\n",
       "      <th>1956</th>\n",
       "      <td>46.7</td>\n",
       "    </tr>\n",
       "    <tr>\n",
       "      <th>1960</th>\n",
       "      <td>44.9</td>\n",
       "    </tr>\n",
       "    <tr>\n",
       "      <th>1964</th>\n",
       "      <td>45.1</td>\n",
       "    </tr>\n",
       "    <tr>\n",
       "      <th>1968</th>\n",
       "      <td>43.8</td>\n",
       "    </tr>\n",
       "    <tr>\n",
       "      <th>1972</th>\n",
       "      <td>44.7</td>\n",
       "    </tr>\n",
       "    <tr>\n",
       "      <th>1976</th>\n",
       "      <td>44.3</td>\n",
       "    </tr>\n",
       "    <tr>\n",
       "      <th>1980</th>\n",
       "      <td>44.6</td>\n",
       "    </tr>\n",
       "    <tr>\n",
       "      <th>1984</th>\n",
       "      <td>44.3</td>\n",
       "    </tr>\n",
       "    <tr>\n",
       "      <th>1988</th>\n",
       "      <td>43.9</td>\n",
       "    </tr>\n",
       "    <tr>\n",
       "      <th>1992</th>\n",
       "      <td>43.5</td>\n",
       "    </tr>\n",
       "    <tr>\n",
       "      <th>1996</th>\n",
       "      <td>43.5</td>\n",
       "    </tr>\n",
       "  </tbody>\n",
       "</table>\n",
       "</div>"
      ],
      "text/plain": [
       "      winning_times\n",
       "year               \n",
       "1900           49.4\n",
       "1904           49.2\n",
       "1908           50.0\n",
       "1912           48.2\n",
       "1920           49.6\n",
       "1924           47.6\n",
       "1928           47.8\n",
       "1932           46.2\n",
       "1936           46.5\n",
       "1948           46.2\n",
       "1952           45.9\n",
       "1956           46.7\n",
       "1960           44.9\n",
       "1964           45.1\n",
       "1968           43.8\n",
       "1972           44.7\n",
       "1976           44.3\n",
       "1980           44.6\n",
       "1984           44.3\n",
       "1988           43.9\n",
       "1992           43.5\n",
       "1996           43.5"
      ]
     },
     "execution_count": 2,
     "metadata": {},
     "output_type": "execute_result"
    }
   ],
   "source": [
    "# Preview the dataset\n",
    "data"
   ]
  },
  {
   "cell_type": "markdown",
   "metadata": {},
   "source": [
    "Plot this time series data. "
   ]
  },
  {
   "cell_type": "code",
   "execution_count": 3,
   "metadata": {},
   "outputs": [
    {
     "data": {
      "image/png": "[encoded data removed]",
      "text/plain": [
       "<Figure size 1080x576 with 1 Axes>"
      ]
     },
     "metadata": {
      "needs_background": "light"
     },
     "output_type": "display_data"
    }
   ],
   "source": [
    "# Plot the time series\n",
    "data.plot(figsize=(15,8));"
   ]
  },
  {
   "cell_type": "markdown",
   "metadata": {},
   "source": [
    "If you plotted the time series correctly, you should notice that it is not stationary. So, difference the data to get a stationary time series. Make sure to remove the missing values."
   ]
  },
  {
   "cell_type": "code",
   "execution_count": 4,
   "metadata": {},
   "outputs": [
    {
     "data": {
      "text/html": [
       "<div>\n",
       "<style scoped>\n",
       "    .dataframe tbody tr th:only-of-type {\n",
       "        vertical-align: middle;\n",
       "    }\n",
       "\n",
       "    .dataframe tbody tr th {\n",
       "        vertical-align: top;\n",
       "    }\n",
       "\n",
       "    .dataframe thead th {\n",
       "        text-align: right;\n",
       "    }\n",
       "</style>\n",
       "<table border=\"1\" class=\"dataframe\">\n",
       "  <thead>\n",
       "    <tr style=\"text-align: right;\">\n",
       "      <th></th>\n",
       "      <th>winning_times</th>\n",
       "    </tr>\n",
       "    <tr>\n",
       "      <th>year</th>\n",
       "      <th></th>\n",
       "    </tr>\n",
       "  </thead>\n",
       "  <tbody>\n",
       "    <tr>\n",
       "      <th>1904</th>\n",
       "      <td>-0.2</td>\n",
       "    </tr>\n",
       "    <tr>\n",
       "      <th>1908</th>\n",
       "      <td>0.8</td>\n",
       "    </tr>\n",
       "    <tr>\n",
       "      <th>1912</th>\n",
       "      <td>-1.8</td>\n",
       "    </tr>\n",
       "    <tr>\n",
       "      <th>1920</th>\n",
       "      <td>1.4</td>\n",
       "    </tr>\n",
       "    <tr>\n",
       "      <th>1924</th>\n",
       "      <td>-2.0</td>\n",
       "    </tr>\n",
       "    <tr>\n",
       "      <th>1928</th>\n",
       "      <td>0.2</td>\n",
       "    </tr>\n",
       "    <tr>\n",
       "      <th>1932</th>\n",
       "      <td>-1.6</td>\n",
       "    </tr>\n",
       "    <tr>\n",
       "      <th>1936</th>\n",
       "      <td>0.3</td>\n",
       "    </tr>\n",
       "    <tr>\n",
       "      <th>1948</th>\n",
       "      <td>-0.3</td>\n",
       "    </tr>\n",
       "    <tr>\n",
       "      <th>1952</th>\n",
       "      <td>-0.3</td>\n",
       "    </tr>\n",
       "    <tr>\n",
       "      <th>1956</th>\n",
       "      <td>0.8</td>\n",
       "    </tr>\n",
       "    <tr>\n",
       "      <th>1960</th>\n",
       "      <td>-1.8</td>\n",
       "    </tr>\n",
       "    <tr>\n",
       "      <th>1964</th>\n",
       "      <td>0.2</td>\n",
       "    </tr>\n",
       "    <tr>\n",
       "      <th>1968</th>\n",
       "      <td>-1.3</td>\n",
       "    </tr>\n",
       "    <tr>\n",
       "      <th>1972</th>\n",
       "      <td>0.9</td>\n",
       "    </tr>\n",
       "    <tr>\n",
       "      <th>1976</th>\n",
       "      <td>-0.4</td>\n",
       "    </tr>\n",
       "    <tr>\n",
       "      <th>1980</th>\n",
       "      <td>0.3</td>\n",
       "    </tr>\n",
       "    <tr>\n",
       "      <th>1984</th>\n",
       "      <td>-0.3</td>\n",
       "    </tr>\n",
       "    <tr>\n",
       "      <th>1988</th>\n",
       "      <td>-0.4</td>\n",
       "    </tr>\n",
       "    <tr>\n",
       "      <th>1992</th>\n",
       "      <td>-0.4</td>\n",
       "    </tr>\n",
       "    <tr>\n",
       "      <th>1996</th>\n",
       "      <td>0.0</td>\n",
       "    </tr>\n",
       "  </tbody>\n",
       "</table>\n",
       "</div>"
      ],
      "text/plain": [
       "      winning_times\n",
       "year               \n",
       "1904           -0.2\n",
       "1908            0.8\n",
       "1912           -1.8\n",
       "1920            1.4\n",
       "1924           -2.0\n",
       "1928            0.2\n",
       "1932           -1.6\n",
       "1936            0.3\n",
       "1948           -0.3\n",
       "1952           -0.3\n",
       "1956            0.8\n",
       "1960           -1.8\n",
       "1964            0.2\n",
       "1968           -1.3\n",
       "1972            0.9\n",
       "1976           -0.4\n",
       "1980            0.3\n",
       "1984           -0.3\n",
       "1988           -0.4\n",
       "1992           -0.4\n",
       "1996            0.0"
      ]
     },
     "execution_count": 4,
     "metadata": {},
     "output_type": "execute_result"
    }
   ],
   "source": [
    "# Difference the time series\n",
    "data_diff = data.diff().dropna()\n",
    "data_diff"
   ]
  },
  {
   "cell_type": "markdown",
   "metadata": {},
   "source": [
    "Use `statsmodels` to plot the ACF and PACF of this differenced time series. "
   ]
  },
  {
   "cell_type": "code",
   "execution_count": 5,
   "metadata": {},
   "outputs": [
    {
     "data": {
      "image/png": "[encoded data removed]",
      "text/plain": [
       "<Figure size 432x288 with 1 Axes>"
      ]
     },
     "metadata": {
      "needs_background": "light"
     },
     "output_type": "display_data"
    }
   ],
   "source": [
    "# Plot the ACF\n",
    "from statsmodels.graphics.tsaplots import plot_pacf,plot_acf\n",
    "plot_acf(data_diff);"
   ]
  },
  {
   "cell_type": "code",
   "execution_count": 6,
   "metadata": {},
   "outputs": [
    {
     "data": {
      "image/png": "[encoded data removed]",
      "text/plain": [
       "<Figure size 432x288 with 1 Axes>"
      ]
     },
     "metadata": {
      "needs_background": "light"
     },
     "output_type": "display_data"
    }
   ],
   "source": [
    "# Plot the PACF\n",
    "plot_pacf(data_diff, lags = 7);"
   ]
  },
  {
   "cell_type": "markdown",
   "metadata": {},
   "source": [
    "Based on the ACF and PACF, fit an ARMA model with the right orders for AR and MA. Feel free to try different models and compare AIC and BIC values, as well as significance values for the parameter estimates. "
   ]
  },
  {
   "cell_type": "code",
   "execution_count": 7,
   "metadata": {},
   "outputs": [],
   "source": [
    "# checking the ACF and PACF, they point to ARMA(3,1). The PACF has 3 significant values and ACF has 1"
   ]
  },
  {
   "cell_type": "code",
   "execution_count": 8,
   "metadata": {},
   "outputs": [
    {
     "name": "stdout",
     "output_type": "stream",
     "text": [
      "                              ARMA Model Results                              \n",
      "==============================================================================\n",
      "Dep. Variable:          winning_times   No. Observations:                   21\n",
      "Model:                     ARMA(3, 1)   Log Likelihood                 -17.713\n",
      "Method:                       css-mle   S.D. of innovations              0.516\n",
      "Date:                Sun, 21 Aug 2022   AIC                             47.426\n",
      "Time:                        13:25:46   BIC                             53.693\n",
      "Sample:                    12-31-1904   HQIC                            48.786\n",
      "                         - 12-31-1996                                         \n",
      "=======================================================================================\n",
      "                          coef    std err          z      P>|z|      [0.025      0.975]\n",
      "---------------------------------------------------------------------------------------\n",
      "const                  -0.2746      0.103     -2.668      0.008      -0.476      -0.073\n",
      "ar.L1.winning_times    -1.3909      0.205     -6.798      0.000      -1.792      -0.990\n",
      "ar.L2.winning_times    -0.1662      0.383     -0.434      0.665      -0.917       0.585\n",
      "ar.L3.winning_times     0.3649      0.216      1.687      0.092      -0.059       0.789\n",
      "ma.L1.winning_times     0.9999      0.159      6.296      0.000       0.689       1.311\n",
      "                                    Roots                                    \n",
      "=============================================================================\n",
      "                  Real          Imaginary           Modulus         Frequency\n",
      "-----------------------------------------------------------------------------\n",
      "AR.1           -1.0017           -0.3333j            1.0557           -0.4489\n",
      "AR.2           -1.0017           +0.3333j            1.0557            0.4489\n",
      "AR.3            2.4589           -0.0000j            2.4589           -0.0000\n",
      "MA.1           -1.0001           +0.0000j            1.0001            0.5000\n",
      "-----------------------------------------------------------------------------\n"
     ]
    }
   ],
   "source": [
    "# Import ARMA\n",
    "from statsmodels.tsa.arima_model import ARMA\n",
    "\n",
    "# Fit an ARMA(3,1) model\n",
    "mod_arma = ARMA(data_diff, order=(3,1))\n",
    "res_arma = mod_arma.fit()\n",
    "\n",
    "# Print out summary information on the fit\n",
    "print(res_arma.summary())"
   ]
  },
  {
   "cell_type": "code",
   "execution_count": 9,
   "metadata": {},
   "outputs": [
    {
     "name": "stdout",
     "output_type": "stream",
     "text": [
      "                              ARMA Model Results                              \n",
      "==============================================================================\n",
      "Dep. Variable:          winning_times   No. Observations:                   21\n",
      "Model:                     ARMA(1, 1)   Log Likelihood                 -19.958\n",
      "Method:                       css-mle   S.D. of innovations              0.615\n",
      "Date:                Sun, 21 Aug 2022   AIC                             47.916\n",
      "Time:                        13:25:46   BIC                             52.094\n",
      "Sample:                    12-31-1904   HQIC                            48.822\n",
      "                         - 12-31-1996                                         \n",
      "=======================================================================================\n",
      "                          coef    std err          z      P>|z|      [0.025      0.975]\n",
      "---------------------------------------------------------------------------------------\n",
      "const                  -0.2850      0.086     -3.298      0.001      -0.454      -0.116\n",
      "ar.L1.winning_times    -0.7708      0.160     -4.826      0.000      -1.084      -0.458\n",
      "ma.L1.winning_times     0.1172      0.254      0.462      0.644      -0.380       0.614\n",
      "                                    Roots                                    \n",
      "=============================================================================\n",
      "                  Real          Imaginary           Modulus         Frequency\n",
      "-----------------------------------------------------------------------------\n",
      "AR.1           -1.2974           +0.0000j            1.2974            0.5000\n",
      "MA.1           -8.5305           +0.0000j            8.5305            0.5000\n",
      "-----------------------------------------------------------------------------\n"
     ]
    }
   ],
   "source": [
    "# Fit an ARMA(1,1) model\n",
    "mod_arma = ARMA(data_diff, order=(1,1))\n",
    "res_arma = mod_arma.fit()\n",
    "\n",
    "# Print out summary information on the fit\n",
    "print(res_arma.summary())"
   ]
  },
  {
   "cell_type": "code",
   "execution_count": 10,
   "metadata": {},
   "outputs": [
    {
     "name": "stdout",
     "output_type": "stream",
     "text": [
      "                              ARMA Model Results                              \n",
      "==============================================================================\n",
      "Dep. Variable:          winning_times   No. Observations:                   21\n",
      "Model:                     ARMA(1, 0)   Log Likelihood                 -20.054\n",
      "Method:                       css-mle   S.D. of innovations              0.618\n",
      "Date:                Sun, 21 Aug 2022   AIC                             46.107\n",
      "Time:                        13:25:46   BIC                             49.241\n",
      "Sample:                    12-31-1904   HQIC                            46.787\n",
      "                         - 12-31-1996                                         \n",
      "=======================================================================================\n",
      "                          coef    std err          z      P>|z|      [0.025      0.975]\n",
      "---------------------------------------------------------------------------------------\n",
      "const                  -0.2885      0.080     -3.602      0.000      -0.445      -0.131\n",
      "ar.L1.winning_times    -0.7186      0.137     -5.262      0.000      -0.986      -0.451\n",
      "                                    Roots                                    \n",
      "=============================================================================\n",
      "                  Real          Imaginary           Modulus         Frequency\n",
      "-----------------------------------------------------------------------------\n",
      "AR.1           -1.3916           +0.0000j            1.3916            0.5000\n",
      "-----------------------------------------------------------------------------\n"
     ]
    }
   ],
   "source": [
    "# Fit an ARMA(1,0) model\n",
    "mod_arma = ARMA(data_diff, order=(1,0))\n",
    "res_arma = mod_arma.fit()\n",
    "\n",
    "# Print out summary information on the fit\n",
    "print(res_arma.summary())"
   ]
  },
  {
   "cell_type": "markdown",
   "metadata": {},
   "source": [
    "## What is your final model? Why did you pick this model?"
   ]
  },
  {
   "cell_type": "code",
   "execution_count": 11,
   "metadata": {},
   "outputs": [],
   "source": [
    "# Your comments here\n",
    "#I pick the ARMA(1,0).Although the log likelihood is the highest for the model ARMA(3,1), it's AIC and BIC are higher than in ARMA(1,0)\n",
    "#So using AIC and BIC i choose ARMA(1,0)"
   ]
  },
  {
   "cell_type": "markdown",
   "metadata": {},
   "source": [
    "## Summary \n",
    "\n",
    "Well done. In addition to manipulating and visualizing time series data, you now know how to create a stationary time series and fit ARMA models. "
   ]
  }
 ],
 "metadata": {
  "kernelspec": {
   "display_name": "Python 3 (ipykernel)",
   "language": "python",
   "name": "python3"
  },
  "language_info": {
   "codemirror_mode": {
    "name": "ipython",
    "version": 3
   },
   "file_extension": ".py",
   "mimetype": "text/x-python",
   "name": "python",
   "nbconvert_exporter": "python",
   "pygments_lexer": "ipython3",
   "version": "3.9.7"
  }
 },
 "nbformat": 4,
 "nbformat_minor": 2
}
